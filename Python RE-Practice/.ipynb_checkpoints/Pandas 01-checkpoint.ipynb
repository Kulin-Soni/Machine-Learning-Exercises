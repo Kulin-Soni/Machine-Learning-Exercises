{
 "cells": [
  {
   "cell_type": "code",
   "execution_count": 2,
   "id": "ff97b565-f497-4731-8686-13d26506e9c1",
   "metadata": {},
   "outputs": [],
   "source": [
    "import numpy as np\n",
    "import pandas as pd\n",
    "from random import randint"
   ]
  },
  {
   "cell_type": "code",
   "execution_count": 3,
   "id": "5542b9f5-cfa3-4752-a6c2-3908c3e0a785",
   "metadata": {},
   "outputs": [],
   "source": [
    "count = 300\n",
    "data = {\n",
    "    \"trainId\": [randint(1000, 9999) for _ in range(count)],\n",
    "    \"trainSpeed\": [randint(5, 150) for _ in range(count)],\n",
    "    \"lastStation\": [randint(1, 1000) for _ in range(count)]\n",
    "    \n",
    "}"
   ]
  },
  {
   "cell_type": "code",
   "execution_count": 4,
   "id": "6254b045-904f-4372-ab98-53c7d455d29b",
   "metadata": {},
   "outputs": [],
   "source": [
    "df = pd.DataFrame(data)"
   ]
  },
  {
   "cell_type": "code",
   "execution_count": 5,
   "id": "5403806d-37ed-432c-bd21-209f3c12b0ed",
   "metadata": {},
   "outputs": [],
   "source": [
    "df.to_csv(\"trains.csv\")"
   ]
  },
  {
   "cell_type": "code",
   "execution_count": 6,
   "id": "f1f776b4-e03d-44ff-b584-da4867d6fed0",
   "metadata": {},
   "outputs": [
    {
     "data": {
      "text/html": [
       "<div>\n",
       "<style scoped>\n",
       "    .dataframe tbody tr th:only-of-type {\n",
       "        vertical-align: middle;\n",
       "    }\n",
       "\n",
       "    .dataframe tbody tr th {\n",
       "        vertical-align: top;\n",
       "    }\n",
       "\n",
       "    .dataframe thead th {\n",
       "        text-align: right;\n",
       "    }\n",
       "</style>\n",
       "<table border=\"1\" class=\"dataframe\">\n",
       "  <thead>\n",
       "    <tr style=\"text-align: right;\">\n",
       "      <th></th>\n",
       "      <th>trainId</th>\n",
       "      <th>trainSpeed</th>\n",
       "      <th>lastStation</th>\n",
       "    </tr>\n",
       "  </thead>\n",
       "  <tbody>\n",
       "    <tr>\n",
       "      <th>0</th>\n",
       "      <td>5771</td>\n",
       "      <td>24</td>\n",
       "      <td>992</td>\n",
       "    </tr>\n",
       "    <tr>\n",
       "      <th>1</th>\n",
       "      <td>3376</td>\n",
       "      <td>39</td>\n",
       "      <td>578</td>\n",
       "    </tr>\n",
       "    <tr>\n",
       "      <th>2</th>\n",
       "      <td>4260</td>\n",
       "      <td>129</td>\n",
       "      <td>468</td>\n",
       "    </tr>\n",
       "    <tr>\n",
       "      <th>3</th>\n",
       "      <td>6740</td>\n",
       "      <td>117</td>\n",
       "      <td>561</td>\n",
       "    </tr>\n",
       "    <tr>\n",
       "      <th>4</th>\n",
       "      <td>7705</td>\n",
       "      <td>97</td>\n",
       "      <td>2</td>\n",
       "    </tr>\n",
       "    <tr>\n",
       "      <th>5</th>\n",
       "      <td>6009</td>\n",
       "      <td>90</td>\n",
       "      <td>467</td>\n",
       "    </tr>\n",
       "    <tr>\n",
       "      <th>6</th>\n",
       "      <td>1890</td>\n",
       "      <td>5</td>\n",
       "      <td>889</td>\n",
       "    </tr>\n",
       "    <tr>\n",
       "      <th>7</th>\n",
       "      <td>9746</td>\n",
       "      <td>32</td>\n",
       "      <td>509</td>\n",
       "    </tr>\n",
       "    <tr>\n",
       "      <th>8</th>\n",
       "      <td>7213</td>\n",
       "      <td>95</td>\n",
       "      <td>930</td>\n",
       "    </tr>\n",
       "    <tr>\n",
       "      <th>9</th>\n",
       "      <td>1418</td>\n",
       "      <td>112</td>\n",
       "      <td>24</td>\n",
       "    </tr>\n",
       "  </tbody>\n",
       "</table>\n",
       "</div>"
      ],
      "text/plain": [
       "   trainId  trainSpeed  lastStation\n",
       "0     5771          24          992\n",
       "1     3376          39          578\n",
       "2     4260         129          468\n",
       "3     6740         117          561\n",
       "4     7705          97            2\n",
       "5     6009          90          467\n",
       "6     1890           5          889\n",
       "7     9746          32          509\n",
       "8     7213          95          930\n",
       "9     1418         112           24"
      ]
     },
     "execution_count": 6,
     "metadata": {},
     "output_type": "execute_result"
    }
   ],
   "source": [
    "df.head(10)"
   ]
  },
  {
   "cell_type": "code",
   "execution_count": 9,
   "id": "b345e3ac-b8bc-4050-a69f-2ebf340b743c",
   "metadata": {},
   "outputs": [],
   "source": [
    "df.index = [chr(randint(1, 100)) for _ in range(300)]\n",
    "df.to_csv(\"trains.csv\")"
   ]
  },
  {
   "cell_type": "code",
   "execution_count": null,
   "id": "934634e0-10ed-49b3-aabf-962d68562043",
   "metadata": {},
   "outputs": [],
   "source": []
  }
 ],
 "metadata": {
  "kernelspec": {
   "display_name": "Python 3 (ipykernel)",
   "language": "python",
   "name": "python3"
  },
  "language_info": {
   "codemirror_mode": {
    "name": "ipython",
    "version": 3
   },
   "file_extension": ".py",
   "mimetype": "text/x-python",
   "name": "python",
   "nbconvert_exporter": "python",
   "pygments_lexer": "ipython3",
   "version": "3.13.0"
  }
 },
 "nbformat": 4,
 "nbformat_minor": 5
}
